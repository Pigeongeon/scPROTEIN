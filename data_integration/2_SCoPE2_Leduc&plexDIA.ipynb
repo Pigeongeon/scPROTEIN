{
 "cells": [
  {
   "cell_type": "code",
   "execution_count": 1,
   "id": "3301037f",
   "metadata": {},
   "outputs": [],
   "source": [
    "import argparse\n",
    "import random\n",
    "import sys\n",
    "\n",
    "\n",
    "sys.path.append(\"../\") \n",
    "from utils import *\n",
    "from model import *\n",
    "import numpy as np \n",
    "import scipy.sparse as sp\n",
    "import os\n",
    "from batch_visualization import *\n"
   ]
  },
  {
   "cell_type": "code",
   "execution_count": 2,
   "id": "8c3b11fd",
   "metadata": {},
   "outputs": [],
   "source": [
    "parser = argparse.ArgumentParser()\n",
    "\n",
    "\n",
    "parser.add_argument(\"--learning_rate\", type=float, default=1e-3, help='Learning rate.')\n",
    "parser.add_argument(\"--num_hidden\", type=int, default=64, help='Hidden dimension.')\n",
    "parser.add_argument(\"--num_proj_hidden\", type=int, default=64, help='num_proj_hidden dimension.')\n",
    "parser.add_argument(\"--activation\", type=str, default='relu', help='activation function')\n",
    "parser.add_argument(\"--num_layers\", type=int, default=2, help='num layers.')\n",
    "parser.add_argument(\"--num_protos\", type=int, default=3, help='num of prototypes')  \n",
    "parser.add_argument(\"--num_changed_edges\", type=int, default=50, help='num of added/removed edges')\n",
    "parser.add_argument(\"--topology_denoising\", type=bool, default=False, help='if scPROTEIN uses topology denoising')\n",
    "\n",
    "parser.add_argument(\"--drop_edge_rate_1\", type=float, default=0., help='drop_edge_rate_1') \n",
    "parser.add_argument(\"--drop_edge_rate_2\", type=float, default=0.1, help='drop_edge_rate_2')  \n",
    "parser.add_argument(\"--drop_feature_rate_1\", type=float, default=0.1, help='drop_feature_rate_1')   \n",
    "parser.add_argument(\"--drop_feature_rate_2\", type=float, default=0., help='drop_feature_rate_2') \n",
    "\n",
    "parser.add_argument(\"--threshold\", type=float, default=0.075, help='threshold of graph construct')  \n",
    "parser.add_argument(\"--tau\", type=float, default=0.4, help='tau')\n",
    "parser.add_argument(\"--weight_decay\", type=float, default=0., help='weight_decay')\n",
    "parser.add_argument(\"--num_epochs\", type=int, default=200, help='Number of epochs.')\n",
    "parser.add_argument(\"--seed\", type=int, default=666, help='Random seed.')   #666\n",
    "parser.add_argument(\"--alpha\", type=float, default=0.05, help='balance factor')\n",
    "parser.add_argument(\"--feature_preprocess\", type=bool, default=False, help='feature preprocess')\n",
    "\n",
    "args =parser.parse_known_args()[0]  \n",
    "setup_seed(args.seed)\n",
    "activation = nn.PReLU() if args.activation == 'prelu' else F.relu"
   ]
  },
  {
   "cell_type": "markdown",
   "id": "38f0d263",
   "metadata": {},
   "source": [
    "### Load datasets for integration.\n",
    "\n",
    "Given the names of datasets, datasets will be loaded from folder './integration_dataset' and the protein abundance matrix, cell type and batch indicator will be returned."
   ]
  },
  {
   "cell_type": "code",
   "execution_count": 3,
   "id": "45856829",
   "metadata": {},
   "outputs": [
    {
     "name": "stdout",
     "output_type": "stream",
     "text": [
      "overlap celltype: ['U-937']\n",
      "overlap protein nums: 682\n"
     ]
    }
   ],
   "source": [
    "batch_label,cell_type_with_dataname,cell_type_label,overlap_cell_type_label, features = integrate_sc_proteomic_features('SCoPE2_Leduc','plexDIA')"
   ]
  },
  {
   "cell_type": "markdown",
   "id": "87934399",
   "metadata": {},
   "source": [
    "### Define the model"
   ]
  },
  {
   "cell_type": "code",
   "execution_count": 4,
   "id": "725ae724",
   "metadata": {},
   "outputs": [],
   "source": [
    "device = torch.device('cuda:0' if torch.cuda.is_available() else 'cpu')\n",
    "\n",
    "data = graph_generation(features, args.threshold, args.feature_preprocess).to(device)\n",
    "torch.cuda.empty_cache()\n",
    "\n",
    "encoder = Encoder(data.num_features, args.num_hidden, activation, k=args.num_layers).to(device)\n",
    "model = Model(encoder, args.num_hidden, args.num_proj_hidden, args.tau).to(device)\n",
    "\n",
    "scPROTEIN = scPROTEIN_learning(model,device, data, args.drop_feature_rate_1,args.drop_feature_rate_2,args.drop_edge_rate_1,args.drop_edge_rate_2,\n",
    "                 args.learning_rate, args.weight_decay, args.num_protos, args.topology_denoising, args.num_epochs, args.alpha, args.num_changed_edges,args.seed)\n"
   ]
  },
  {
   "cell_type": "markdown",
   "id": "60a00ab6",
   "metadata": {},
   "source": [
    "### scPROTEIN model training"
   ]
  },
  {
   "cell_type": "code",
   "execution_count": 5,
   "id": "cbd0eb62",
   "metadata": {
    "scrolled": true
   },
   "outputs": [
    {
     "name": "stdout",
     "output_type": "stream",
     "text": [
      "(T) | Epoch=001, loss=6.2573 \n",
      "(T) | Epoch=002, loss=5.8680 \n",
      "(T) | Epoch=003, loss=5.6798 \n",
      "(T) | Epoch=004, loss=5.5620 \n",
      "(T) | Epoch=005, loss=5.5233 \n",
      "(T) | Epoch=006, loss=5.4967 \n",
      "(T) | Epoch=007, loss=5.4738 \n",
      "(T) | Epoch=008, loss=5.4538 \n",
      "(T) | Epoch=009, loss=5.4189 \n",
      "(T) | Epoch=010, loss=5.3887 \n",
      "(T) | Epoch=011, loss=5.3569 \n",
      "(T) | Epoch=012, loss=5.3223 \n",
      "(T) | Epoch=013, loss=5.3011 \n",
      "(T) | Epoch=014, loss=5.2863 \n",
      "(T) | Epoch=015, loss=5.2750 \n",
      "(T) | Epoch=016, loss=5.2789 \n",
      "(T) | Epoch=017, loss=5.2616 \n",
      "(T) | Epoch=018, loss=5.2603 \n",
      "(T) | Epoch=019, loss=5.2642 \n",
      "(T) | Epoch=020, loss=5.2618 \n",
      "(T) | Epoch=021, loss=5.2554 \n",
      "(T) | Epoch=022, loss=5.2294 \n",
      "(T) | Epoch=023, loss=5.2295 \n",
      "(T) | Epoch=024, loss=5.2187 \n",
      "(T) | Epoch=025, loss=5.2201 \n",
      "(T) | Epoch=026, loss=5.2060 \n",
      "(T) | Epoch=027, loss=5.1962 \n",
      "(T) | Epoch=028, loss=5.1832 \n",
      "(T) | Epoch=029, loss=5.1771 \n",
      "(T) | Epoch=030, loss=5.1667 \n",
      "(T) | Epoch=031, loss=5.1596 \n",
      "(T) | Epoch=032, loss=5.1577 \n",
      "(T) | Epoch=033, loss=5.1496 \n",
      "(T) | Epoch=034, loss=5.1395 \n",
      "(T) | Epoch=035, loss=5.1327 \n",
      "(T) | Epoch=036, loss=5.1491 \n",
      "(T) | Epoch=037, loss=5.1367 \n",
      "(T) | Epoch=038, loss=5.1256 \n",
      "(T) | Epoch=039, loss=5.1200 \n",
      "(T) | Epoch=040, loss=5.1115 \n",
      "(T) | Epoch=041, loss=5.1076 \n",
      "(T) | Epoch=042, loss=5.1007 \n",
      "(T) | Epoch=043, loss=5.1015 \n",
      "(T) | Epoch=044, loss=5.0909 \n",
      "(T) | Epoch=045, loss=5.0889 \n",
      "(T) | Epoch=046, loss=5.0765 \n",
      "(T) | Epoch=047, loss=5.0767 \n",
      "(T) | Epoch=048, loss=5.0668 \n",
      "(T) | Epoch=049, loss=5.0616 \n",
      "(T) | Epoch=050, loss=5.0567 \n",
      "(T) | Epoch=051, loss=5.0637 \n",
      "(T) | Epoch=052, loss=5.0618 \n",
      "(T) | Epoch=053, loss=5.0558 \n",
      "(T) | Epoch=054, loss=5.0523 \n",
      "(T) | Epoch=055, loss=5.0521 \n",
      "(T) | Epoch=056, loss=5.0516 \n",
      "(T) | Epoch=057, loss=5.0899 \n",
      "(T) | Epoch=058, loss=5.0559 \n",
      "(T) | Epoch=059, loss=5.0452 \n",
      "(T) | Epoch=060, loss=5.0417 \n",
      "(T) | Epoch=061, loss=5.0383 \n",
      "(T) | Epoch=062, loss=5.0465 \n",
      "(T) | Epoch=063, loss=5.0334 \n",
      "(T) | Epoch=064, loss=5.0271 \n",
      "(T) | Epoch=065, loss=5.0312 \n",
      "(T) | Epoch=066, loss=5.0289 \n",
      "(T) | Epoch=067, loss=5.0266 \n",
      "(T) | Epoch=068, loss=5.0124 \n",
      "(T) | Epoch=069, loss=5.0304 \n",
      "(T) | Epoch=070, loss=5.0053 \n",
      "(T) | Epoch=071, loss=5.0150 \n",
      "(T) | Epoch=072, loss=4.9950 \n",
      "(T) | Epoch=073, loss=5.0059 \n",
      "(T) | Epoch=074, loss=4.9929 \n",
      "(T) | Epoch=075, loss=4.9816 \n",
      "(T) | Epoch=076, loss=4.9943 \n",
      "(T) | Epoch=077, loss=4.9690 \n",
      "(T) | Epoch=078, loss=4.9615 \n",
      "(T) | Epoch=079, loss=4.9577 \n",
      "(T) | Epoch=080, loss=4.9458 \n",
      "(T) | Epoch=081, loss=4.9345 \n",
      "(T) | Epoch=082, loss=4.9298 \n",
      "(T) | Epoch=083, loss=4.9159 \n",
      "(T) | Epoch=084, loss=4.8921 \n",
      "(T) | Epoch=085, loss=4.8880 \n",
      "(T) | Epoch=086, loss=4.8813 \n",
      "(T) | Epoch=087, loss=4.8652 \n",
      "(T) | Epoch=088, loss=4.8641 \n",
      "(T) | Epoch=089, loss=4.8507 \n",
      "(T) | Epoch=090, loss=4.8690 \n",
      "(T) | Epoch=091, loss=4.8320 \n",
      "(T) | Epoch=092, loss=4.8183 \n",
      "(T) | Epoch=093, loss=4.8067 \n",
      "(T) | Epoch=094, loss=4.8254 \n",
      "(T) | Epoch=095, loss=4.8144 \n",
      "(T) | Epoch=096, loss=4.8229 \n",
      "(T) | Epoch=097, loss=4.8052 \n",
      "(T) | Epoch=098, loss=4.8020 \n",
      "(T) | Epoch=099, loss=4.8725 \n",
      "(T) | Epoch=100, loss=4.8078 \n",
      "(T) | Epoch=101, loss=4.8047 \n",
      "(T) | Epoch=102, loss=4.8055 \n",
      "(T) | Epoch=103, loss=4.8023 \n",
      "(T) | Epoch=104, loss=4.7990 \n",
      "(T) | Epoch=105, loss=4.7835 \n",
      "(T) | Epoch=106, loss=4.7913 \n",
      "(T) | Epoch=107, loss=4.7625 \n",
      "(T) | Epoch=108, loss=4.7653 \n",
      "(T) | Epoch=109, loss=4.7661 \n",
      "(T) | Epoch=110, loss=4.7438 \n",
      "(T) | Epoch=111, loss=4.7554 \n",
      "(T) | Epoch=112, loss=4.7372 \n",
      "(T) | Epoch=113, loss=4.7548 \n",
      "(T) | Epoch=114, loss=4.7516 \n",
      "(T) | Epoch=115, loss=4.7474 \n",
      "(T) | Epoch=116, loss=4.7666 \n",
      "(T) | Epoch=117, loss=4.7806 \n",
      "(T) | Epoch=118, loss=4.7426 \n",
      "(T) | Epoch=119, loss=4.7351 \n",
      "(T) | Epoch=120, loss=4.7649 \n",
      "(T) | Epoch=121, loss=4.7297 \n",
      "(T) | Epoch=122, loss=4.7423 \n",
      "(T) | Epoch=123, loss=4.7521 \n",
      "(T) | Epoch=124, loss=4.7981 \n",
      "(T) | Epoch=125, loss=4.7335 \n",
      "(T) | Epoch=126, loss=4.7361 \n",
      "(T) | Epoch=127, loss=4.7314 \n",
      "(T) | Epoch=128, loss=4.7460 \n",
      "(T) | Epoch=129, loss=4.7369 \n",
      "(T) | Epoch=130, loss=4.7340 \n",
      "(T) | Epoch=131, loss=4.7165 \n",
      "(T) | Epoch=132, loss=4.7097 \n",
      "(T) | Epoch=133, loss=4.7353 \n",
      "(T) | Epoch=134, loss=4.7616 \n",
      "(T) | Epoch=135, loss=4.7038 \n",
      "(T) | Epoch=136, loss=4.7222 \n",
      "(T) | Epoch=137, loss=4.7196 \n",
      "(T) | Epoch=138, loss=4.7145 \n",
      "(T) | Epoch=139, loss=4.7188 \n",
      "(T) | Epoch=140, loss=4.7111 \n",
      "(T) | Epoch=141, loss=4.7169 \n",
      "(T) | Epoch=142, loss=4.6928 \n",
      "(T) | Epoch=143, loss=4.7016 \n",
      "(T) | Epoch=144, loss=4.7218 \n",
      "(T) | Epoch=145, loss=4.7032 \n",
      "(T) | Epoch=146, loss=4.7005 \n",
      "(T) | Epoch=147, loss=4.7044 \n",
      "(T) | Epoch=148, loss=4.6963 \n",
      "(T) | Epoch=149, loss=4.7489 \n",
      "(T) | Epoch=150, loss=4.7029 \n",
      "(T) | Epoch=151, loss=4.6932 \n",
      "(T) | Epoch=152, loss=4.6960 \n",
      "(T) | Epoch=153, loss=4.7030 \n",
      "(T) | Epoch=154, loss=4.6996 \n",
      "(T) | Epoch=155, loss=4.6841 \n",
      "(T) | Epoch=156, loss=4.6964 \n",
      "(T) | Epoch=157, loss=4.6971 \n",
      "(T) | Epoch=158, loss=4.6880 \n",
      "(T) | Epoch=159, loss=4.7113 \n",
      "(T) | Epoch=160, loss=4.6989 \n",
      "(T) | Epoch=161, loss=4.6835 \n",
      "(T) | Epoch=162, loss=4.6777 \n",
      "(T) | Epoch=163, loss=4.7003 \n",
      "(T) | Epoch=164, loss=4.6948 \n",
      "(T) | Epoch=165, loss=4.6778 \n",
      "(T) | Epoch=166, loss=4.6756 \n",
      "(T) | Epoch=167, loss=4.6860 \n",
      "(T) | Epoch=168, loss=4.6818 \n",
      "(T) | Epoch=169, loss=4.6784 \n",
      "(T) | Epoch=170, loss=4.6733 \n",
      "(T) | Epoch=171, loss=4.6734 \n",
      "(T) | Epoch=172, loss=4.6600 \n",
      "(T) | Epoch=173, loss=4.6846 \n",
      "(T) | Epoch=174, loss=4.6790 \n",
      "(T) | Epoch=175, loss=4.6669 \n",
      "(T) | Epoch=176, loss=4.6572 \n",
      "(T) | Epoch=177, loss=4.6636 \n",
      "(T) | Epoch=178, loss=4.6617 \n",
      "(T) | Epoch=179, loss=4.6627 \n",
      "(T) | Epoch=180, loss=4.6557 \n",
      "(T) | Epoch=181, loss=4.6387 \n",
      "(T) | Epoch=182, loss=4.6439 \n",
      "(T) | Epoch=183, loss=4.6429 \n",
      "(T) | Epoch=184, loss=4.6287 \n",
      "(T) | Epoch=185, loss=4.6487 \n",
      "(T) | Epoch=186, loss=4.6362 \n",
      "(T) | Epoch=187, loss=4.6413 \n",
      "(T) | Epoch=188, loss=4.6381 \n",
      "(T) | Epoch=189, loss=4.6236 \n",
      "(T) | Epoch=190, loss=4.6295 \n",
      "(T) | Epoch=191, loss=4.6353 \n",
      "(T) | Epoch=192, loss=4.6299 \n",
      "(T) | Epoch=193, loss=4.6330 \n",
      "(T) | Epoch=194, loss=4.6368 \n",
      "(T) | Epoch=195, loss=4.6174 \n",
      "(T) | Epoch=196, loss=4.6252 \n",
      "(T) | Epoch=197, loss=4.6427 \n",
      "(T) | Epoch=198, loss=4.6137 \n",
      "(T) | Epoch=199, loss=4.6278 \n",
      "(T) | Epoch=200, loss=4.6228 \n"
     ]
    }
   ],
   "source": [
    "scPROTEIN.train()"
   ]
  },
  {
   "cell_type": "markdown",
   "id": "9bb3a070",
   "metadata": {},
   "source": [
    "### Generate the cell embedding"
   ]
  },
  {
   "cell_type": "code",
   "execution_count": 6,
   "id": "84273722",
   "metadata": {},
   "outputs": [],
   "source": [
    "embedding = scPROTEIN.embedding_generation()\n",
    "np.save('embedding_scope2_plexDIA.npy',embedding)"
   ]
  },
  {
   "cell_type": "markdown",
   "id": "00c037ce",
   "metadata": {},
   "source": [
    "### Evaluate the performance of learned embedding \n",
    "\n",
    "We evaluate the performance in terms of both cell clustering and batch correction. For both tasks, higher value indicates a better performance."
   ]
  },
  {
   "cell_type": "code",
   "execution_count": 7,
   "id": "3bc89550",
   "metadata": {},
   "outputs": [
    {
     "data": {
      "text/html": [
       "<div>\n",
       "<style scoped>\n",
       "    .dataframe tbody tr th:only-of-type {\n",
       "        vertical-align: middle;\n",
       "    }\n",
       "\n",
       "    .dataframe tbody tr th {\n",
       "        vertical-align: top;\n",
       "    }\n",
       "\n",
       "    .dataframe thead th {\n",
       "        text-align: right;\n",
       "    }\n",
       "</style>\n",
       "<table border=\"1\" class=\"dataframe\">\n",
       "  <thead>\n",
       "    <tr style=\"text-align: right;\">\n",
       "      <th></th>\n",
       "      <th>ASW</th>\n",
       "      <th>ARI</th>\n",
       "      <th>NMI</th>\n",
       "      <th>PS</th>\n",
       "    </tr>\n",
       "  </thead>\n",
       "  <tbody>\n",
       "    <tr>\n",
       "      <th>0</th>\n",
       "      <td>0.649</td>\n",
       "      <td>0.914</td>\n",
       "      <td>0.905</td>\n",
       "      <td>0.963</td>\n",
       "    </tr>\n",
       "  </tbody>\n",
       "</table>\n",
       "</div>"
      ],
      "text/plain": [
       "     ASW    ARI    NMI     PS\n",
       "0  0.649  0.914  0.905  0.963"
      ]
     },
     "execution_count": 7,
     "metadata": {},
     "output_type": "execute_result"
    }
   ],
   "source": [
    "celltype_clus(embedding,cell_type_label)"
   ]
  },
  {
   "cell_type": "code",
   "execution_count": 8,
   "id": "edc1742b",
   "metadata": {},
   "outputs": [
    {
     "data": {
      "text/html": [
       "<div>\n",
       "<style scoped>\n",
       "    .dataframe tbody tr th:only-of-type {\n",
       "        vertical-align: middle;\n",
       "    }\n",
       "\n",
       "    .dataframe tbody tr th {\n",
       "        vertical-align: top;\n",
       "    }\n",
       "\n",
       "    .dataframe thead th {\n",
       "        text-align: right;\n",
       "    }\n",
       "</style>\n",
       "<table border=\"1\" class=\"dataframe\">\n",
       "  <thead>\n",
       "    <tr style=\"text-align: right;\">\n",
       "      <th></th>\n",
       "      <th>1-ASW</th>\n",
       "      <th>1-ARI</th>\n",
       "      <th>1-NMI</th>\n",
       "      <th>1-PS</th>\n",
       "    </tr>\n",
       "  </thead>\n",
       "  <tbody>\n",
       "    <tr>\n",
       "      <th>0</th>\n",
       "      <td>0.835</td>\n",
       "      <td>0.972</td>\n",
       "      <td>0.928</td>\n",
       "      <td>0.39</td>\n",
       "    </tr>\n",
       "  </tbody>\n",
       "</table>\n",
       "</div>"
      ],
      "text/plain": [
       "   1-ASW  1-ARI  1-NMI  1-PS\n",
       "0  0.835  0.972  0.928  0.39"
      ]
     },
     "execution_count": 8,
     "metadata": {},
     "output_type": "execute_result"
    }
   ],
   "source": [
    "batch_clus(embedding,cell_type_label,batch_label,overlap_cell_type_label)"
   ]
  },
  {
   "cell_type": "markdown",
   "id": "5d65073d",
   "metadata": {},
   "source": [
    "### Visualization\n",
    "We then display the tsne plot showing cells of both datasets, colored by data source and cell types."
   ]
  },
  {
   "cell_type": "code",
   "execution_count": 9,
   "id": "65f00a02",
   "metadata": {},
   "outputs": [
    {
     "name": "stderr",
     "output_type": "stream",
     "text": [
      "*c* argument looks like a single numeric RGB or RGBA sequence, which should be avoided as value-mapping will have precedence in case its length matches with *x* & *y*.  Please use the *color* keyword-argument or provide a 2D array with a single row if you intend to specify the same RGB or RGBA value for all points.\n",
      "*c* argument looks like a single numeric RGB or RGBA sequence, which should be avoided as value-mapping will have precedence in case its length matches with *x* & *y*.  Please use the *color* keyword-argument or provide a 2D array with a single row if you intend to specify the same RGB or RGBA value for all points.\n",
      "*c* argument looks like a single numeric RGB or RGBA sequence, which should be avoided as value-mapping will have precedence in case its length matches with *x* & *y*.  Please use the *color* keyword-argument or provide a 2D array with a single row if you intend to specify the same RGB or RGBA value for all points.\n",
      "*c* argument looks like a single numeric RGB or RGBA sequence, which should be avoided as value-mapping will have precedence in case its length matches with *x* & *y*.  Please use the *color* keyword-argument or provide a 2D array with a single row if you intend to specify the same RGB or RGBA value for all points.\n",
      "*c* argument looks like a single numeric RGB or RGBA sequence, which should be avoided as value-mapping will have precedence in case its length matches with *x* & *y*.  Please use the *color* keyword-argument or provide a 2D array with a single row if you intend to specify the same RGB or RGBA value for all points.\n"
     ]
    },
    {
     "data": {
      "image/png": "[encoded data removed]",
      "text/plain": [
       "<Figure size 640x480 with 1 Axes>"
      ]
     },
     "metadata": {},
     "output_type": "display_data"
    }
   ],
   "source": [
    "integration_visualization(cell_type_with_dataname,embedding)"
   ]
  },
  {
   "cell_type": "code",
   "execution_count": null,
   "id": "437e9010",
   "metadata": {},
   "outputs": [],
   "source": []
  }
 ],
 "metadata": {
  "kernelspec": {
   "display_name": "Python 3 (ipykernel)",
   "language": "python",
   "name": "python3"
  },
  "language_info": {
   "codemirror_mode": {
    "name": "ipython",
    "version": 3
   },
   "file_extension": ".py",
   "mimetype": "text/x-python",
   "name": "python",
   "nbconvert_exporter": "python",
   "pygments_lexer": "ipython3",
   "version": "3.8.12"
  }
 },
 "nbformat": 4,
 "nbformat_minor": 5
}
