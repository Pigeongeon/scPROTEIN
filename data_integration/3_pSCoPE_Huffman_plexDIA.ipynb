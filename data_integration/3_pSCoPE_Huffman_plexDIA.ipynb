{
 "cells": [
  {
   "cell_type": "code",
   "execution_count": 1,
   "id": "7beb44bf",
   "metadata": {},
   "outputs": [],
   "source": [
    "import argparse\n",
    "import random\n",
    "import sys\n",
    "\n",
    "sys.path.append(\"../\") \n",
    "from utils import *\n",
    "from model import *\n",
    "\n",
    "import numpy as np \n",
    "import scipy.sparse as sp\n",
    "import os\n",
    "from batch_visualization import *\n",
    "import warnings"
   ]
  },
  {
   "cell_type": "code",
   "execution_count": 2,
   "id": "6cb73080",
   "metadata": {},
   "outputs": [],
   "source": [
    "parser = argparse.ArgumentParser()\n",
    "\n",
    "parser.add_argument(\"--learning_rate\", type=float, default=1e-3, help='Learning rate.')\n",
    "parser.add_argument(\"--num_hidden\", type=int, default=128, help='Hidden dimension.')\n",
    "parser.add_argument(\"--num_proj_hidden\", type=int, default=128, help='num_proj_hidden dimension.')\n",
    "parser.add_argument(\"--activation\", type=str, default='relu', help='activation function')\n",
    "parser.add_argument(\"--num_layers\", type=int, default=2, help='num layers.')\n",
    "parser.add_argument(\"--num_protos\", type=int, default=3, help='num of prototypes')\n",
    "parser.add_argument(\"--num_changed_edges\", type=int, default=50, help='num of added/removed edges')\n",
    "parser.add_argument(\"--topology_denoising\", type=bool, default=False, help='if scPROTEIN uses topology denoising')\n",
    "parser.add_argument(\"--attribute_denoising\", type=bool, default=False, help='if scPROTEIN uses topology denoising')\n",
    "parser.add_argument(\"--drop_edge_rate_1\", type=float, default=0., help='drop_edge_rate_1') \n",
    "parser.add_argument(\"--drop_edge_rate_2\", type=float, default=0.1, help='drop_edge_rate_2')  \n",
    "parser.add_argument(\"--drop_feature_rate_1\", type=float, default=0.1, help='drop_feature_rate_1')   \n",
    "parser.add_argument(\"--drop_feature_rate_2\", type=float, default=0., help='drop_feature_rate_2')  \n",
    "\n",
    "parser.add_argument(\"--threshold\", type=float, default=0.075, help='threshold of graph construct')  \n",
    "parser.add_argument(\"--tau\", type=float, default=0.4, help='tau')\n",
    "parser.add_argument(\"--weight_decay\", type=float, default=0., help='weight_decay')\n",
    "parser.add_argument(\"--num_epochs\", type=int, default=200, help='Number of epochs.')\n",
    "parser.add_argument(\"--seed\", type=int, default=777, help='Random seed.')  \n",
    "parser.add_argument(\"--alpha\", type=float, default=0.01, help='balance factor')\n",
    "parser.add_argument(\"--feature_preprocess\", type=bool, default=False, help='feature preprocess')\n",
    "\n",
    "args =parser.parse_known_args()[0]  \n",
    "warnings.filterwarnings(\"ignore\")\n",
    "setup_seed(args.seed)\n",
    "activation = nn.PReLU() if args.activation == 'prelu' else F.relu\n"
   ]
  },
  {
   "cell_type": "markdown",
   "id": "1a84b90a",
   "metadata": {},
   "source": [
    "### Load datasets for integration.\n",
    "\n",
    "Given the names of datasets, datasets will be loaded from folder './integration_dataset' and the protein abundance matrix, cell type and batch indicator will be returned."
   ]
  },
  {
   "cell_type": "code",
   "execution_count": 3,
   "id": "b361b02e",
   "metadata": {},
   "outputs": [
    {
     "name": "stdout",
     "output_type": "stream",
     "text": [
      "overlap celltype: ['HPAFII']\n",
      "overlap protein nums: 947\n"
     ]
    }
   ],
   "source": [
    "batch_label,cell_type_with_dataname,cell_type_label,overlap_cell_type_label, features = integrate_sc_proteomic_features('pSCoPE_Huffman','plexDIA')"
   ]
  },
  {
   "cell_type": "code",
   "execution_count": 4,
   "id": "21eeceb5",
   "metadata": {},
   "outputs": [],
   "source": [
    "device = torch.device('cuda:0' if torch.cuda.is_available() else 'cpu')\n",
    "data = graph_generation(features, args.threshold, args.feature_preprocess).to(device)\n",
    "torch.cuda.empty_cache()\n",
    "encoder = Encoder(data.num_features, args.num_hidden, activation, k=args.num_layers).to(device)\n",
    "model = Model(encoder, args.num_hidden, args.num_proj_hidden, args.tau).to(device)\n",
    "\n",
    "scPROTEIN = scPROTEIN_learning(model,device, data, args.drop_feature_rate_1,args.drop_feature_rate_2,args.drop_edge_rate_1,args.drop_edge_rate_2,\n",
    "                 args.learning_rate, args.weight_decay, args.num_protos, args.topology_denoising, args.num_epochs, args.alpha, args.num_changed_edges,args.seed)\n"
   ]
  },
  {
   "cell_type": "markdown",
   "id": "d96df1ae",
   "metadata": {},
   "source": [
    "### scPROTEIN model training"
   ]
  },
  {
   "cell_type": "code",
   "execution_count": 5,
   "id": "076f0cd7",
   "metadata": {
    "scrolled": true
   },
   "outputs": [
    {
     "name": "stdout",
     "output_type": "stream",
     "text": [
      "(T) | Epoch=001, loss=6.1409 \n",
      "(T) | Epoch=002, loss=5.6381 \n",
      "(T) | Epoch=003, loss=5.5256 \n",
      "(T) | Epoch=004, loss=5.4743 \n",
      "(T) | Epoch=005, loss=5.5435 \n",
      "(T) | Epoch=006, loss=5.4515 \n",
      "(T) | Epoch=007, loss=5.4516 \n",
      "(T) | Epoch=008, loss=5.4384 \n",
      "(T) | Epoch=009, loss=5.4244 \n",
      "(T) | Epoch=010, loss=5.4236 \n",
      "(T) | Epoch=011, loss=5.4169 \n",
      "(T) | Epoch=012, loss=5.3945 \n",
      "(T) | Epoch=013, loss=5.3876 \n",
      "(T) | Epoch=014, loss=5.3773 \n",
      "(T) | Epoch=015, loss=5.3689 \n",
      "(T) | Epoch=016, loss=5.3543 \n",
      "(T) | Epoch=017, loss=5.3491 \n",
      "(T) | Epoch=018, loss=5.3309 \n",
      "(T) | Epoch=019, loss=5.3114 \n",
      "(T) | Epoch=020, loss=5.3026 \n",
      "(T) | Epoch=021, loss=5.2672 \n",
      "(T) | Epoch=022, loss=5.2401 \n",
      "(T) | Epoch=023, loss=5.2128 \n",
      "(T) | Epoch=024, loss=5.3075 \n",
      "(T) | Epoch=025, loss=5.1639 \n",
      "(T) | Epoch=026, loss=5.2374 \n",
      "(T) | Epoch=027, loss=5.1318 \n",
      "(T) | Epoch=028, loss=5.1078 \n",
      "(T) | Epoch=029, loss=5.0999 \n",
      "(T) | Epoch=030, loss=5.0978 \n",
      "(T) | Epoch=031, loss=5.0736 \n",
      "(T) | Epoch=032, loss=5.1099 \n",
      "(T) | Epoch=033, loss=5.0559 \n",
      "(T) | Epoch=034, loss=5.0327 \n",
      "(T) | Epoch=035, loss=5.0324 \n",
      "(T) | Epoch=036, loss=5.0197 \n",
      "(T) | Epoch=037, loss=5.0145 \n",
      "(T) | Epoch=038, loss=5.0141 \n",
      "(T) | Epoch=039, loss=5.0076 \n",
      "(T) | Epoch=040, loss=5.0321 \n",
      "(T) | Epoch=041, loss=5.0047 \n",
      "(T) | Epoch=042, loss=4.9938 \n",
      "(T) | Epoch=043, loss=5.0052 \n",
      "(T) | Epoch=044, loss=4.9912 \n",
      "(T) | Epoch=045, loss=5.0509 \n",
      "(T) | Epoch=046, loss=5.0039 \n",
      "(T) | Epoch=047, loss=4.9972 \n",
      "(T) | Epoch=048, loss=4.9811 \n",
      "(T) | Epoch=049, loss=4.9814 \n",
      "(T) | Epoch=050, loss=4.9986 \n",
      "(T) | Epoch=051, loss=4.9966 \n",
      "(T) | Epoch=052, loss=4.9776 \n",
      "(T) | Epoch=053, loss=5.0167 \n",
      "(T) | Epoch=054, loss=4.9868 \n",
      "(T) | Epoch=055, loss=4.9791 \n",
      "(T) | Epoch=056, loss=4.9677 \n",
      "(T) | Epoch=057, loss=4.9660 \n",
      "(T) | Epoch=058, loss=4.9675 \n",
      "(T) | Epoch=059, loss=4.9586 \n",
      "(T) | Epoch=060, loss=4.9798 \n",
      "(T) | Epoch=061, loss=4.9573 \n",
      "(T) | Epoch=062, loss=4.9714 \n",
      "(T) | Epoch=063, loss=4.9733 \n",
      "(T) | Epoch=064, loss=4.9914 \n",
      "(T) | Epoch=065, loss=4.9363 \n",
      "(T) | Epoch=066, loss=4.9588 \n",
      "(T) | Epoch=067, loss=4.9361 \n",
      "(T) | Epoch=068, loss=4.9355 \n",
      "(T) | Epoch=069, loss=4.9383 \n",
      "(T) | Epoch=070, loss=4.9171 \n",
      "(T) | Epoch=071, loss=4.9657 \n",
      "(T) | Epoch=072, loss=4.8986 \n",
      "(T) | Epoch=073, loss=4.8921 \n",
      "(T) | Epoch=074, loss=4.8894 \n",
      "(T) | Epoch=075, loss=4.8701 \n",
      "(T) | Epoch=076, loss=4.8655 \n",
      "(T) | Epoch=077, loss=4.8426 \n",
      "(T) | Epoch=078, loss=4.8475 \n",
      "(T) | Epoch=079, loss=4.8493 \n",
      "(T) | Epoch=080, loss=4.8433 \n",
      "(T) | Epoch=081, loss=4.8336 \n",
      "(T) | Epoch=082, loss=4.8414 \n",
      "(T) | Epoch=083, loss=4.8448 \n",
      "(T) | Epoch=084, loss=4.8730 \n",
      "(T) | Epoch=085, loss=4.8197 \n",
      "(T) | Epoch=086, loss=4.8495 \n",
      "(T) | Epoch=087, loss=4.7991 \n",
      "(T) | Epoch=088, loss=4.8324 \n",
      "(T) | Epoch=089, loss=4.8093 \n",
      "(T) | Epoch=090, loss=4.8045 \n",
      "(T) | Epoch=091, loss=4.8035 \n",
      "(T) | Epoch=092, loss=4.8380 \n",
      "(T) | Epoch=093, loss=4.8271 \n",
      "(T) | Epoch=094, loss=4.7939 \n",
      "(T) | Epoch=095, loss=4.7837 \n",
      "(T) | Epoch=096, loss=4.7924 \n",
      "(T) | Epoch=097, loss=4.7718 \n",
      "(T) | Epoch=098, loss=4.8513 \n",
      "(T) | Epoch=099, loss=4.8227 \n",
      "(T) | Epoch=100, loss=4.8010 \n",
      "(T) | Epoch=101, loss=4.7790 \n",
      "(T) | Epoch=102, loss=4.7688 \n",
      "(T) | Epoch=103, loss=4.7707 \n",
      "(T) | Epoch=104, loss=4.8007 \n",
      "(T) | Epoch=105, loss=4.7629 \n",
      "(T) | Epoch=106, loss=4.7557 \n",
      "(T) | Epoch=107, loss=4.7640 \n",
      "(T) | Epoch=108, loss=4.7438 \n",
      "(T) | Epoch=109, loss=4.7460 \n",
      "(T) | Epoch=110, loss=4.7400 \n",
      "(T) | Epoch=111, loss=4.7932 \n",
      "(T) | Epoch=112, loss=4.7425 \n",
      "(T) | Epoch=113, loss=4.7457 \n",
      "(T) | Epoch=114, loss=4.7282 \n",
      "(T) | Epoch=115, loss=4.7319 \n",
      "(T) | Epoch=116, loss=4.7297 \n",
      "(T) | Epoch=117, loss=4.7235 \n",
      "(T) | Epoch=118, loss=4.7212 \n",
      "(T) | Epoch=119, loss=4.7205 \n",
      "(T) | Epoch=120, loss=4.7146 \n",
      "(T) | Epoch=121, loss=4.7323 \n",
      "(T) | Epoch=122, loss=4.7296 \n",
      "(T) | Epoch=123, loss=4.7405 \n",
      "(T) | Epoch=124, loss=4.6837 \n",
      "(T) | Epoch=125, loss=4.7074 \n",
      "(T) | Epoch=126, loss=4.6878 \n",
      "(T) | Epoch=127, loss=4.6897 \n",
      "(T) | Epoch=128, loss=4.7004 \n",
      "(T) | Epoch=129, loss=4.6976 \n",
      "(T) | Epoch=130, loss=4.6940 \n",
      "(T) | Epoch=131, loss=4.6781 \n",
      "(T) | Epoch=132, loss=4.6713 \n",
      "(T) | Epoch=133, loss=4.6941 \n",
      "(T) | Epoch=134, loss=4.6869 \n",
      "(T) | Epoch=135, loss=4.6906 \n",
      "(T) | Epoch=136, loss=4.6620 \n",
      "(T) | Epoch=137, loss=4.6746 \n",
      "(T) | Epoch=138, loss=4.6805 \n",
      "(T) | Epoch=139, loss=4.6597 \n",
      "(T) | Epoch=140, loss=4.6806 \n",
      "(T) | Epoch=141, loss=4.6629 \n",
      "(T) | Epoch=142, loss=4.6582 \n",
      "(T) | Epoch=143, loss=4.6596 \n",
      "(T) | Epoch=144, loss=4.6420 \n",
      "(T) | Epoch=145, loss=4.6559 \n",
      "(T) | Epoch=146, loss=4.6599 \n",
      "(T) | Epoch=147, loss=4.6617 \n",
      "(T) | Epoch=148, loss=4.6257 \n",
      "(T) | Epoch=149, loss=4.6574 \n",
      "(T) | Epoch=150, loss=4.6349 \n",
      "(T) | Epoch=151, loss=4.6349 \n",
      "(T) | Epoch=152, loss=4.6278 \n",
      "(T) | Epoch=153, loss=4.6313 \n",
      "(T) | Epoch=154, loss=4.6239 \n",
      "(T) | Epoch=155, loss=4.6829 \n",
      "(T) | Epoch=156, loss=4.6441 \n",
      "(T) | Epoch=157, loss=4.6167 \n",
      "(T) | Epoch=158, loss=4.6345 \n",
      "(T) | Epoch=159, loss=4.6444 \n",
      "(T) | Epoch=160, loss=4.6265 \n",
      "(T) | Epoch=161, loss=4.6121 \n",
      "(T) | Epoch=162, loss=4.6311 \n",
      "(T) | Epoch=163, loss=4.6015 \n",
      "(T) | Epoch=164, loss=4.6248 \n",
      "(T) | Epoch=165, loss=4.5984 \n",
      "(T) | Epoch=166, loss=4.6176 \n",
      "(T) | Epoch=167, loss=4.6147 \n",
      "(T) | Epoch=168, loss=4.6395 \n",
      "(T) | Epoch=169, loss=4.5915 \n",
      "(T) | Epoch=170, loss=4.6112 \n",
      "(T) | Epoch=171, loss=4.5951 \n",
      "(T) | Epoch=172, loss=4.6031 \n",
      "(T) | Epoch=173, loss=4.5862 \n",
      "(T) | Epoch=174, loss=4.5967 \n",
      "(T) | Epoch=175, loss=4.6255 \n",
      "(T) | Epoch=176, loss=4.5948 \n",
      "(T) | Epoch=177, loss=4.5950 \n",
      "(T) | Epoch=178, loss=4.5948 \n",
      "(T) | Epoch=179, loss=4.6044 \n",
      "(T) | Epoch=180, loss=4.6172 \n",
      "(T) | Epoch=181, loss=4.5903 \n",
      "(T) | Epoch=182, loss=4.6014 \n",
      "(T) | Epoch=183, loss=4.6065 \n",
      "(T) | Epoch=184, loss=4.5982 \n",
      "(T) | Epoch=185, loss=4.5925 \n",
      "(T) | Epoch=186, loss=4.5887 \n",
      "(T) | Epoch=187, loss=4.5841 \n",
      "(T) | Epoch=188, loss=4.6161 \n",
      "(T) | Epoch=189, loss=4.6049 \n",
      "(T) | Epoch=190, loss=4.5872 \n",
      "(T) | Epoch=191, loss=4.5802 \n",
      "(T) | Epoch=192, loss=4.6169 \n",
      "(T) | Epoch=193, loss=4.5866 \n",
      "(T) | Epoch=194, loss=4.5917 \n",
      "(T) | Epoch=195, loss=4.5792 \n",
      "(T) | Epoch=196, loss=4.5918 \n",
      "(T) | Epoch=197, loss=4.5820 \n",
      "(T) | Epoch=198, loss=4.5739 \n",
      "(T) | Epoch=199, loss=4.5767 \n",
      "(T) | Epoch=200, loss=4.5629 \n"
     ]
    }
   ],
   "source": [
    "scPROTEIN.train()"
   ]
  },
  {
   "cell_type": "markdown",
   "id": "64bc9763",
   "metadata": {},
   "source": [
    "### Generate the cell embedding"
   ]
  },
  {
   "cell_type": "code",
   "execution_count": 6,
   "id": "4e3e82fa",
   "metadata": {},
   "outputs": [],
   "source": [
    "embedding = scPROTEIN.embedding_generation()\n",
    "np.save('embedding_pscope_huffman_plexDIA.npy',embedding)"
   ]
  },
  {
   "cell_type": "markdown",
   "id": "8d6b474e",
   "metadata": {},
   "source": [
    "### Evaluate the performance of learned embedding \n",
    "\n",
    "We evaluate the performance in terms of both cell clustering and batch correction. For both tasks, higher value indicates a better performance."
   ]
  },
  {
   "cell_type": "code",
   "execution_count": 7,
   "id": "e200556e",
   "metadata": {},
   "outputs": [
    {
     "data": {
      "text/html": [
       "<div>\n",
       "<style scoped>\n",
       "    .dataframe tbody tr th:only-of-type {\n",
       "        vertical-align: middle;\n",
       "    }\n",
       "\n",
       "    .dataframe tbody tr th {\n",
       "        vertical-align: top;\n",
       "    }\n",
       "\n",
       "    .dataframe thead th {\n",
       "        text-align: right;\n",
       "    }\n",
       "</style>\n",
       "<table border=\"1\" class=\"dataframe\">\n",
       "  <thead>\n",
       "    <tr style=\"text-align: right;\">\n",
       "      <th></th>\n",
       "      <th>ASW</th>\n",
       "      <th>ARI</th>\n",
       "      <th>NMI</th>\n",
       "      <th>PS</th>\n",
       "    </tr>\n",
       "  </thead>\n",
       "  <tbody>\n",
       "    <tr>\n",
       "      <th>0</th>\n",
       "      <td>0.521</td>\n",
       "      <td>0.911</td>\n",
       "      <td>0.9</td>\n",
       "      <td>0.962</td>\n",
       "    </tr>\n",
       "  </tbody>\n",
       "</table>\n",
       "</div>"
      ],
      "text/plain": [
       "     ASW    ARI  NMI     PS\n",
       "0  0.521  0.911  0.9  0.962"
      ]
     },
     "execution_count": 7,
     "metadata": {},
     "output_type": "execute_result"
    }
   ],
   "source": [
    "celltype_clus(embedding,cell_type_label)"
   ]
  },
  {
   "cell_type": "code",
   "execution_count": 8,
   "id": "4068ceb3",
   "metadata": {},
   "outputs": [
    {
     "data": {
      "text/html": [
       "<div>\n",
       "<style scoped>\n",
       "    .dataframe tbody tr th:only-of-type {\n",
       "        vertical-align: middle;\n",
       "    }\n",
       "\n",
       "    .dataframe tbody tr th {\n",
       "        vertical-align: top;\n",
       "    }\n",
       "\n",
       "    .dataframe thead th {\n",
       "        text-align: right;\n",
       "    }\n",
       "</style>\n",
       "<table border=\"1\" class=\"dataframe\">\n",
       "  <thead>\n",
       "    <tr style=\"text-align: right;\">\n",
       "      <th></th>\n",
       "      <th>1-ASW</th>\n",
       "      <th>1-ARI</th>\n",
       "      <th>1-NMI</th>\n",
       "      <th>1-PS</th>\n",
       "    </tr>\n",
       "  </thead>\n",
       "  <tbody>\n",
       "    <tr>\n",
       "      <th>0</th>\n",
       "      <td>0.613</td>\n",
       "      <td>0.571</td>\n",
       "      <td>0.566</td>\n",
       "      <td>0.171</td>\n",
       "    </tr>\n",
       "  </tbody>\n",
       "</table>\n",
       "</div>"
      ],
      "text/plain": [
       "   1-ASW  1-ARI  1-NMI   1-PS\n",
       "0  0.613  0.571  0.566  0.171"
      ]
     },
     "execution_count": 8,
     "metadata": {},
     "output_type": "execute_result"
    }
   ],
   "source": [
    "batch_clus(embedding,cell_type_label,batch_label,overlap_cell_type_label)"
   ]
  },
  {
   "cell_type": "code",
   "execution_count": 9,
   "id": "8f956ab5",
   "metadata": {},
   "outputs": [
    {
     "name": "stderr",
     "output_type": "stream",
     "text": [
      "*c* argument looks like a single numeric RGB or RGBA sequence, which should be avoided as value-mapping will have precedence in case its length matches with *x* & *y*.  Please use the *color* keyword-argument or provide a 2D array with a single row if you intend to specify the same RGB or RGBA value for all points.\n",
      "*c* argument looks like a single numeric RGB or RGBA sequence, which should be avoided as value-mapping will have precedence in case its length matches with *x* & *y*.  Please use the *color* keyword-argument or provide a 2D array with a single row if you intend to specify the same RGB or RGBA value for all points.\n",
      "*c* argument looks like a single numeric RGB or RGBA sequence, which should be avoided as value-mapping will have precedence in case its length matches with *x* & *y*.  Please use the *color* keyword-argument or provide a 2D array with a single row if you intend to specify the same RGB or RGBA value for all points.\n",
      "*c* argument looks like a single numeric RGB or RGBA sequence, which should be avoided as value-mapping will have precedence in case its length matches with *x* & *y*.  Please use the *color* keyword-argument or provide a 2D array with a single row if you intend to specify the same RGB or RGBA value for all points.\n",
      "*c* argument looks like a single numeric RGB or RGBA sequence, which should be avoided as value-mapping will have precedence in case its length matches with *x* & *y*.  Please use the *color* keyword-argument or provide a 2D array with a single row if you intend to specify the same RGB or RGBA value for all points.\n",
      "*c* argument looks like a single numeric RGB or RGBA sequence, which should be avoided as value-mapping will have precedence in case its length matches with *x* & *y*.  Please use the *color* keyword-argument or provide a 2D array with a single row if you intend to specify the same RGB or RGBA value for all points.\n"
     ]
    },
    {
     "data": {
      "image/png": "[encoded data removed]",
      "text/plain": [
       "<Figure size 640x480 with 1 Axes>"
      ]
     },
     "metadata": {},
     "output_type": "display_data"
    }
   ],
   "source": [
    "integration_visualization(cell_type_with_dataname,embedding)"
   ]
  },
  {
   "cell_type": "code",
   "execution_count": null,
   "id": "0f5304bf",
   "metadata": {},
   "outputs": [],
   "source": []
  }
 ],
 "metadata": {
  "kernelspec": {
   "display_name": "Python 3 (ipykernel)",
   "language": "python",
   "name": "python3"
  },
  "language_info": {
   "codemirror_mode": {
    "name": "ipython",
    "version": 3
   },
   "file_extension": ".py",
   "mimetype": "text/x-python",
   "name": "python",
   "nbconvert_exporter": "python",
   "pygments_lexer": "ipython3",
   "version": "3.8.12"
  }
 },
 "nbformat": 4,
 "nbformat_minor": 5
}
