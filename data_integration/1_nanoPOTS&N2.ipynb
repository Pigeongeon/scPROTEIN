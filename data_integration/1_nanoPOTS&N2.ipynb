{
 "cells": [
  {
   "attachments": {},
   "cell_type": "markdown",
   "id": "f1e22bcd",
   "metadata": {},
   "source": [
    "### Import necessary packages"
   ]
  },
  {
   "cell_type": "code",
   "execution_count": 1,
   "id": "264c3cdd",
   "metadata": {},
   "outputs": [],
   "source": [
    "import argparse\n",
    "import random\n",
    "import sys\n",
    "\n",
    "sys.path.append(\"../\") \n",
    "from utils import *\n",
    "from model import *\n",
    "import numpy as np \n",
    "import scipy.sparse as sp\n",
    "import os\n",
    "from batch_visualization import *\n",
    "\n",
    "from sklearn.neighbors import KNeighborsClassifier\n",
    "from sklearn.metrics import accuracy_score,f1_score"
   ]
  },
  {
   "cell_type": "code",
   "execution_count": 2,
   "id": "78d24248",
   "metadata": {},
   "outputs": [],
   "source": [
    "parser = argparse.ArgumentParser()\n",
    "\n",
    "parser.add_argument(\"--learning_rate\", type=float, default=1e-3, help='Learning rate.')\n",
    "parser.add_argument(\"--num_hidden\", type=int, default=64, help='Hidden dimension.')\n",
    "parser.add_argument(\"--num_proj_hidden\", type=int, default=64, help='num_proj_hidden dimension.')\n",
    "parser.add_argument(\"--activation\", type=str, default='relu', help='activation function')\n",
    "parser.add_argument(\"--num_layers\", type=int, default=2, help='num layers.')\n",
    "parser.add_argument(\"--num_protos\", type=int, default=3, help='num of prototypes')\n",
    "parser.add_argument(\"--num_changed_edges\", type=int, default=50, help='num of added/removed edges')\n",
    "parser.add_argument(\"--topology_denoising\", type=bool, default=False, help='if scPROTEIN uses topology denoising')\n",
    "parser.add_argument(\"--drop_edge_rate_1\", type=float, default=0., help='drop_edge_rate_1')  \n",
    "parser.add_argument(\"--drop_edge_rate_2\", type=float, default=0.1, help='drop_edge_rate_2')  \n",
    "parser.add_argument(\"--drop_feature_rate_1\", type=float, default=0.1, help='drop_feature_rate_1')  \n",
    "parser.add_argument(\"--drop_feature_rate_2\", type=float, default=0., help='drop_feature_rate_2') \n",
    "parser.add_argument(\"--threshold\", type=float, default=0.04, help='threshold of graph construct') \n",
    "parser.add_argument(\"--tau\", type=float, default=0.4, help='tau')\n",
    "parser.add_argument(\"--weight_decay\", type=float, default=0., help='weight_decay')\n",
    "parser.add_argument(\"--num_epochs\", type=int, default=200, help='Number of epochs.')\n",
    "parser.add_argument(\"--seed\", type=int, default=666, help='Random seed.')  \n",
    "parser.add_argument(\"--alpha\", type=float, default=0.01, help='balance factor')\n",
    "parser.add_argument(\"--feature_preprocess\", type=bool, default=True, help='feature preprocess')\n",
    "\n",
    "args =parser.parse_known_args()[0]  \n",
    "setup_seed(args.seed)\n",
    "activation = nn.PReLU() if args.activation == 'prelu' else F.relu"
   ]
  },
  {
   "attachments": {},
   "cell_type": "markdown",
   "id": "ee29387d",
   "metadata": {},
   "source": [
    "### Load datasets for integration.\n",
    "\n",
    "Given the names of datasets, datasets will be loaded from folder './integration_dataset' and the protein abundance matrix, cell type and batch indicator will be returned via function *integrate_sc_proteomic_features*.\n",
    "\n",
    "<br/>\n",
    "\n",
    "\n",
    "**integrate_sc_proteomic_features(dataset1, dataset2)**\n",
    "\n",
    "**- Function:**\n",
    "\n",
    "This function prepares for integrating different single-cell proteomics datasets.\n",
    "\n",
    "**- Parameters:**\n",
    "\n",
    "- `dataset1` (h5ad format): First dataset for integration.\n",
    "- `dataset2` (h5ad format): Second dataset for integration.\n",
    "\n",
    "**- Returns:**\n",
    "\n",
    "- `batch_label` (array): The batch label which indicates the source of each cell.\n",
    "- `cell_type_with_dataname` (list): Cell type of each cell, along with the dataset name.\n",
    "- `cell_type_label` (array): Discrete cell type labels.\n",
    "- `overlap_cell_type_label` (list): The overlap cell type(s) of both integrated datasets.\n",
    "- `features_concat` (array): The combination of single-cell proteomics data from both integrated datasets, using the overlap proteins.\n",
    "\n"
   ]
  },
  {
   "cell_type": "code",
   "execution_count": 3,
   "id": "8d8976f9",
   "metadata": {},
   "outputs": [
    {
     "name": "stdout",
     "output_type": "stream",
     "text": [
      "overlap celltype: ['C10', 'RAW', 'SVEC']\n",
      "overlap protein nums: 762\n"
     ]
    }
   ],
   "source": [
    "batch_label,cell_type_with_dataname,cell_type_label,overlap_cell_type_label, features = integrate_sc_proteomic_features('nanoPOTS','N2')"
   ]
  },
  {
   "attachments": {},
   "cell_type": "markdown",
   "id": "8dd4c4fe",
   "metadata": {},
   "source": [
    "### Define the model"
   ]
  },
  {
   "cell_type": "code",
   "execution_count": 4,
   "id": "d68bff1a",
   "metadata": {},
   "outputs": [],
   "source": [
    "device = torch.device('cuda:0' if torch.cuda.is_available() else 'cpu')\n",
    "data = graph_generation(features, args.threshold, args.feature_preprocess).to(device)\n",
    "torch.cuda.empty_cache()\n",
    "encoder = Encoder(data.num_features, args.num_hidden, activation, k=args.num_layers).to(device)\n",
    "model = Model(encoder, args.num_hidden, args.num_proj_hidden, args.tau).to(device)\n",
    "scPROTEIN = scPROTEIN_learning(model,device, data, args.drop_feature_rate_1,args.drop_feature_rate_2,args.drop_edge_rate_1,args.drop_edge_rate_2,\n",
    "                 args.learning_rate, args.weight_decay, args.num_protos, args.topology_denoising, args.num_epochs, args.alpha, args.num_changed_edges,args.seed)\n"
   ]
  },
  {
   "attachments": {},
   "cell_type": "markdown",
   "id": "a6fc3911",
   "metadata": {},
   "source": [
    "### scPROTEIN model training"
   ]
  },
  {
   "cell_type": "code",
   "execution_count": 5,
   "id": "6d8df4cd",
   "metadata": {
    "scrolled": true
   },
   "outputs": [
    {
     "name": "stdout",
     "output_type": "stream",
     "text": [
      "(T) | Epoch=001, loss=5.8090 \n",
      "(T) | Epoch=002, loss=5.6847 \n",
      "(T) | Epoch=003, loss=5.5225 \n",
      "(T) | Epoch=004, loss=5.3146 \n",
      "(T) | Epoch=005, loss=5.1328 \n",
      "(T) | Epoch=006, loss=4.9953 \n",
      "(T) | Epoch=007, loss=4.8960 \n",
      "(T) | Epoch=008, loss=4.8291 \n",
      "(T) | Epoch=009, loss=4.7909 \n",
      "(T) | Epoch=010, loss=4.7654 \n",
      "(T) | Epoch=011, loss=4.7521 \n",
      "(T) | Epoch=012, loss=4.7428 \n",
      "(T) | Epoch=013, loss=4.7376 \n",
      "(T) | Epoch=014, loss=4.7328 \n",
      "(T) | Epoch=015, loss=4.7288 \n",
      "(T) | Epoch=016, loss=4.7260 \n",
      "(T) | Epoch=017, loss=4.7213 \n",
      "(T) | Epoch=018, loss=4.7185 \n",
      "(T) | Epoch=019, loss=4.7126 \n",
      "(T) | Epoch=020, loss=4.7110 \n",
      "(T) | Epoch=021, loss=4.7036 \n",
      "(T) | Epoch=022, loss=4.7006 \n",
      "(T) | Epoch=023, loss=4.6932 \n",
      "(T) | Epoch=024, loss=4.6944 \n",
      "(T) | Epoch=025, loss=4.6835 \n",
      "(T) | Epoch=026, loss=4.6834 \n",
      "(T) | Epoch=027, loss=4.6745 \n",
      "(T) | Epoch=028, loss=4.6658 \n",
      "(T) | Epoch=029, loss=4.6689 \n",
      "(T) | Epoch=030, loss=4.6561 \n",
      "(T) | Epoch=031, loss=4.6554 \n",
      "(T) | Epoch=032, loss=4.6505 \n",
      "(T) | Epoch=033, loss=4.6482 \n",
      "(T) | Epoch=034, loss=4.6570 \n",
      "(T) | Epoch=035, loss=4.6507 \n",
      "(T) | Epoch=036, loss=4.6808 \n",
      "(T) | Epoch=037, loss=4.6471 \n",
      "(T) | Epoch=038, loss=4.6424 \n",
      "(T) | Epoch=039, loss=4.6363 \n",
      "(T) | Epoch=040, loss=4.6389 \n",
      "(T) | Epoch=041, loss=4.6491 \n",
      "(T) | Epoch=042, loss=4.6303 \n",
      "(T) | Epoch=043, loss=4.6304 \n",
      "(T) | Epoch=044, loss=4.6252 \n",
      "(T) | Epoch=045, loss=4.6280 \n",
      "(T) | Epoch=046, loss=4.6300 \n",
      "(T) | Epoch=047, loss=4.6192 \n",
      "(T) | Epoch=048, loss=4.6056 \n",
      "(T) | Epoch=049, loss=4.6180 \n",
      "(T) | Epoch=050, loss=4.6125 \n",
      "(T) | Epoch=051, loss=4.6114 \n",
      "(T) | Epoch=052, loss=4.5951 \n",
      "(T) | Epoch=053, loss=4.6027 \n",
      "(T) | Epoch=054, loss=4.5970 \n",
      "(T) | Epoch=055, loss=4.5856 \n",
      "(T) | Epoch=056, loss=4.5960 \n",
      "(T) | Epoch=057, loss=4.5733 \n",
      "(T) | Epoch=058, loss=4.5672 \n",
      "(T) | Epoch=059, loss=4.5585 \n",
      "(T) | Epoch=060, loss=4.5467 \n",
      "(T) | Epoch=061, loss=4.5426 \n",
      "(T) | Epoch=062, loss=4.5330 \n",
      "(T) | Epoch=063, loss=4.5123 \n",
      "(T) | Epoch=064, loss=4.5019 \n",
      "(T) | Epoch=065, loss=4.5122 \n",
      "(T) | Epoch=066, loss=4.4830 \n",
      "(T) | Epoch=067, loss=4.4786 \n",
      "(T) | Epoch=068, loss=4.4808 \n",
      "(T) | Epoch=069, loss=4.4528 \n",
      "(T) | Epoch=070, loss=4.4444 \n",
      "(T) | Epoch=071, loss=4.4262 \n",
      "(T) | Epoch=072, loss=4.4265 \n",
      "(T) | Epoch=073, loss=4.3946 \n",
      "(T) | Epoch=074, loss=4.4101 \n",
      "(T) | Epoch=075, loss=4.3897 \n",
      "(T) | Epoch=076, loss=4.3982 \n",
      "(T) | Epoch=077, loss=4.4165 \n",
      "(T) | Epoch=078, loss=4.3927 \n",
      "(T) | Epoch=079, loss=4.3941 \n",
      "(T) | Epoch=080, loss=4.3873 \n",
      "(T) | Epoch=081, loss=4.3953 \n",
      "(T) | Epoch=082, loss=4.3646 \n",
      "(T) | Epoch=083, loss=4.3698 \n",
      "(T) | Epoch=084, loss=4.3594 \n",
      "(T) | Epoch=085, loss=4.3729 \n",
      "(T) | Epoch=086, loss=4.3577 \n",
      "(T) | Epoch=087, loss=4.3936 \n",
      "(T) | Epoch=088, loss=4.3740 \n",
      "(T) | Epoch=089, loss=4.3975 \n",
      "(T) | Epoch=090, loss=4.3351 \n",
      "(T) | Epoch=091, loss=4.3386 \n",
      "(T) | Epoch=092, loss=4.3619 \n",
      "(T) | Epoch=093, loss=4.3493 \n",
      "(T) | Epoch=094, loss=4.3905 \n",
      "(T) | Epoch=095, loss=4.3496 \n",
      "(T) | Epoch=096, loss=4.3379 \n",
      "(T) | Epoch=097, loss=4.3196 \n",
      "(T) | Epoch=098, loss=4.3304 \n",
      "(T) | Epoch=099, loss=4.3828 \n",
      "(T) | Epoch=100, loss=4.3973 \n",
      "(T) | Epoch=101, loss=4.3363 \n",
      "(T) | Epoch=102, loss=4.3311 \n",
      "(T) | Epoch=103, loss=4.3538 \n",
      "(T) | Epoch=104, loss=4.3305 \n",
      "(T) | Epoch=105, loss=4.3318 \n",
      "(T) | Epoch=106, loss=4.3649 \n",
      "(T) | Epoch=107, loss=4.3456 \n",
      "(T) | Epoch=108, loss=4.3248 \n",
      "(T) | Epoch=109, loss=4.3264 \n",
      "(T) | Epoch=110, loss=4.3026 \n",
      "(T) | Epoch=111, loss=4.3189 \n",
      "(T) | Epoch=112, loss=4.3195 \n",
      "(T) | Epoch=113, loss=4.3155 \n",
      "(T) | Epoch=114, loss=4.3218 \n",
      "(T) | Epoch=115, loss=4.2816 \n",
      "(T) | Epoch=116, loss=4.3268 \n",
      "(T) | Epoch=117, loss=4.2705 \n",
      "(T) | Epoch=118, loss=4.2769 \n",
      "(T) | Epoch=119, loss=4.2670 \n",
      "(T) | Epoch=120, loss=4.2791 \n",
      "(T) | Epoch=121, loss=4.2817 \n",
      "(T) | Epoch=122, loss=4.2797 \n",
      "(T) | Epoch=123, loss=4.2579 \n",
      "(T) | Epoch=124, loss=4.2578 \n",
      "(T) | Epoch=125, loss=4.2684 \n",
      "(T) | Epoch=126, loss=4.2601 \n",
      "(T) | Epoch=127, loss=4.2834 \n",
      "(T) | Epoch=128, loss=4.2558 \n",
      "(T) | Epoch=129, loss=4.2340 \n",
      "(T) | Epoch=130, loss=4.2487 \n",
      "(T) | Epoch=131, loss=4.2644 \n",
      "(T) | Epoch=132, loss=4.2794 \n",
      "(T) | Epoch=133, loss=4.2529 \n",
      "(T) | Epoch=134, loss=4.2508 \n",
      "(T) | Epoch=135, loss=4.2863 \n",
      "(T) | Epoch=136, loss=4.2537 \n",
      "(T) | Epoch=137, loss=4.2344 \n",
      "(T) | Epoch=138, loss=4.2226 \n",
      "(T) | Epoch=139, loss=4.2274 \n",
      "(T) | Epoch=140, loss=4.2344 \n",
      "(T) | Epoch=141, loss=4.2398 \n",
      "(T) | Epoch=142, loss=4.2531 \n",
      "(T) | Epoch=143, loss=4.2713 \n",
      "(T) | Epoch=144, loss=4.2181 \n",
      "(T) | Epoch=145, loss=4.2416 \n",
      "(T) | Epoch=146, loss=4.1871 \n",
      "(T) | Epoch=147, loss=4.2571 \n",
      "(T) | Epoch=148, loss=4.2156 \n",
      "(T) | Epoch=149, loss=4.2022 \n",
      "(T) | Epoch=150, loss=4.2131 \n",
      "(T) | Epoch=151, loss=4.1919 \n",
      "(T) | Epoch=152, loss=4.2299 \n",
      "(T) | Epoch=153, loss=4.1801 \n",
      "(T) | Epoch=154, loss=4.1935 \n",
      "(T) | Epoch=155, loss=4.2246 \n",
      "(T) | Epoch=156, loss=4.2154 \n",
      "(T) | Epoch=157, loss=4.1754 \n",
      "(T) | Epoch=158, loss=4.1706 \n",
      "(T) | Epoch=159, loss=4.1969 \n",
      "(T) | Epoch=160, loss=4.1855 \n",
      "(T) | Epoch=161, loss=4.2051 \n",
      "(T) | Epoch=162, loss=4.1869 \n",
      "(T) | Epoch=163, loss=4.2010 \n",
      "(T) | Epoch=164, loss=4.2606 \n",
      "(T) | Epoch=165, loss=4.2150 \n",
      "(T) | Epoch=166, loss=4.1761 \n",
      "(T) | Epoch=167, loss=4.2225 \n",
      "(T) | Epoch=168, loss=4.1810 \n",
      "(T) | Epoch=169, loss=4.1825 \n",
      "(T) | Epoch=170, loss=4.2314 \n",
      "(T) | Epoch=171, loss=4.1810 \n",
      "(T) | Epoch=172, loss=4.1699 \n",
      "(T) | Epoch=173, loss=4.2064 \n",
      "(T) | Epoch=174, loss=4.1704 \n",
      "(T) | Epoch=175, loss=4.1939 \n",
      "(T) | Epoch=176, loss=4.1818 \n",
      "(T) | Epoch=177, loss=4.1700 \n",
      "(T) | Epoch=178, loss=4.1487 \n",
      "(T) | Epoch=179, loss=4.1661 \n",
      "(T) | Epoch=180, loss=4.1648 \n",
      "(T) | Epoch=181, loss=4.1561 \n",
      "(T) | Epoch=182, loss=4.1641 \n",
      "(T) | Epoch=183, loss=4.1780 \n",
      "(T) | Epoch=184, loss=4.1626 \n",
      "(T) | Epoch=185, loss=4.1741 \n",
      "(T) | Epoch=186, loss=4.1680 \n",
      "(T) | Epoch=187, loss=4.2191 \n",
      "(T) | Epoch=188, loss=4.1629 \n",
      "(T) | Epoch=189, loss=4.1813 \n",
      "(T) | Epoch=190, loss=4.1415 \n",
      "(T) | Epoch=191, loss=4.1724 \n",
      "(T) | Epoch=192, loss=4.1841 \n",
      "(T) | Epoch=193, loss=4.1553 \n",
      "(T) | Epoch=194, loss=4.1930 \n",
      "(T) | Epoch=195, loss=4.1452 \n",
      "(T) | Epoch=196, loss=4.1399 \n",
      "(T) | Epoch=197, loss=4.1535 \n",
      "(T) | Epoch=198, loss=4.1438 \n",
      "(T) | Epoch=199, loss=4.1887 \n",
      "(T) | Epoch=200, loss=4.1603 \n"
     ]
    }
   ],
   "source": [
    "scPROTEIN.train()"
   ]
  },
  {
   "attachments": {},
   "cell_type": "markdown",
   "id": "0a10b5aa",
   "metadata": {},
   "source": [
    "### Generate the cell embedding"
   ]
  },
  {
   "cell_type": "code",
   "execution_count": 6,
   "id": "bf153204",
   "metadata": {},
   "outputs": [
    {
     "data": {
      "text/plain": [
       "(169, 64)"
      ]
     },
     "execution_count": 6,
     "metadata": {},
     "output_type": "execute_result"
    }
   ],
   "source": [
    "embedding = scPROTEIN.embedding_generation()\n",
    "np.save('embedding_n2_nanopots.npy',embedding)\n",
    "\n",
    "embedding.shape"
   ]
  },
  {
   "attachments": {},
   "cell_type": "markdown",
   "id": "6665dd2e",
   "metadata": {},
   "source": [
    "### Evaluate the performance of learned embedding \n",
    "\n",
    "We evaluate the performance in terms of both cell clustering and batch correction. For both tasks, higher value indicates a better performance."
   ]
  },
  {
   "cell_type": "code",
   "execution_count": 7,
   "id": "c6cb5c9a",
   "metadata": {},
   "outputs": [
    {
     "data": {
      "text/html": [
       "<div>\n",
       "<style scoped>\n",
       "    .dataframe tbody tr th:only-of-type {\n",
       "        vertical-align: middle;\n",
       "    }\n",
       "\n",
       "    .dataframe tbody tr th {\n",
       "        vertical-align: top;\n",
       "    }\n",
       "\n",
       "    .dataframe thead th {\n",
       "        text-align: right;\n",
       "    }\n",
       "</style>\n",
       "<table border=\"1\" class=\"dataframe\">\n",
       "  <thead>\n",
       "    <tr style=\"text-align: right;\">\n",
       "      <th></th>\n",
       "      <th>ASW</th>\n",
       "      <th>ARI</th>\n",
       "      <th>NMI</th>\n",
       "      <th>PS</th>\n",
       "    </tr>\n",
       "  </thead>\n",
       "  <tbody>\n",
       "    <tr>\n",
       "      <th>0</th>\n",
       "      <td>0.81</td>\n",
       "      <td>1.0</td>\n",
       "      <td>1.0</td>\n",
       "      <td>1.0</td>\n",
       "    </tr>\n",
       "  </tbody>\n",
       "</table>\n",
       "</div>"
      ],
      "text/plain": [
       "    ASW  ARI  NMI   PS\n",
       "0  0.81  1.0  1.0  1.0"
      ]
     },
     "execution_count": 7,
     "metadata": {},
     "output_type": "execute_result"
    }
   ],
   "source": [
    "celltype_clus(embedding,cell_type_label)"
   ]
  },
  {
   "cell_type": "code",
   "execution_count": 8,
   "id": "7ceaadc5",
   "metadata": {},
   "outputs": [
    {
     "data": {
      "text/html": [
       "<div>\n",
       "<style scoped>\n",
       "    .dataframe tbody tr th:only-of-type {\n",
       "        vertical-align: middle;\n",
       "    }\n",
       "\n",
       "    .dataframe tbody tr th {\n",
       "        vertical-align: top;\n",
       "    }\n",
       "\n",
       "    .dataframe thead th {\n",
       "        text-align: right;\n",
       "    }\n",
       "</style>\n",
       "<table border=\"1\" class=\"dataframe\">\n",
       "  <thead>\n",
       "    <tr style=\"text-align: right;\">\n",
       "      <th></th>\n",
       "      <th>1-ASW</th>\n",
       "      <th>1-ARI</th>\n",
       "      <th>1-NMI</th>\n",
       "      <th>1-PS</th>\n",
       "    </tr>\n",
       "  </thead>\n",
       "  <tbody>\n",
       "    <tr>\n",
       "      <th>0</th>\n",
       "      <td>0.611</td>\n",
       "      <td>0.738</td>\n",
       "      <td>0.788</td>\n",
       "      <td>0.254</td>\n",
       "    </tr>\n",
       "  </tbody>\n",
       "</table>\n",
       "</div>"
      ],
      "text/plain": [
       "   1-ASW  1-ARI  1-NMI   1-PS\n",
       "0  0.611  0.738  0.788  0.254"
      ]
     },
     "execution_count": 8,
     "metadata": {},
     "output_type": "execute_result"
    }
   ],
   "source": [
    "batch_clus(embedding,cell_type_label,batch_label,overlap_cell_type_label)"
   ]
  },
  {
   "attachments": {},
   "cell_type": "markdown",
   "id": "da41cca6",
   "metadata": {},
   "source": [
    "### Visualization\n",
    "We then display the tsne plot showing cells of both datasets, colored by data source and cell types using *integration_visualization*.\n",
    "\n",
    "<br/>\n",
    "\n",
    "**integration_visualization(cell_type_with_dataname, embedding)**\n",
    "\n",
    "**- Function:**\n",
    "\n",
    "This function generates a 2D visualization plot of the data integration result. Users can customize the default cell type names and colors based on the used datasets.\n",
    "\n",
    "**- Parameters:**\n",
    "\n",
    "- `cell_type_with_dataname` (list): Cell type of each cell, along with the dataset name. This can be obtained using the `integrate_sc_proteomic_features` function.\n",
    "- `embedding` (array): Learned cell representation matrix (cell * embedding).\n",
    "\n",
    "**- Returns:**\n",
    "\n",
    "- A 2D visualization plot of the integration result, colored by cell types.\n",
    "\n"
   ]
  },
  {
   "cell_type": "code",
   "execution_count": 9,
   "id": "da649b8d",
   "metadata": {},
   "outputs": [
    {
     "data": {
      "image/png": "[encoded data removed]",
      "text/plain": [
       "<Figure size 640x480 with 1 Axes>"
      ]
     },
     "metadata": {},
     "output_type": "display_data"
    }
   ],
   "source": [
    "integration_visualization(cell_type_with_dataname,embedding)"
   ]
  },
  {
   "attachments": {},
   "cell_type": "markdown",
   "id": "b1c0a431",
   "metadata": {},
   "source": [
    "### Label transfer\n",
    "nanoPOTS and N2 are two datasets with the same cell types. After batch effect correction, we can further perform cell type annotation using one dataset as reference and the other as target.\n",
    "A diagram describing this process is shown below.\n",
    "\n",
    "\n",
    "<p align=\"center\">\n",
    "  <img width=\"50%\" src=\"./image/labeltransfer.png\">\n",
    "</p>\n",
    "\n"
   ]
  },
  {
   "cell_type": "code",
   "execution_count": 10,
   "id": "baa5c123",
   "metadata": {},
   "outputs": [
    {
     "name": "stdout",
     "output_type": "stream",
     "text": [
      "transfer from nanoPOTS to N2\n",
      "acc: 1.0 macro-f1: 1.0\n"
     ]
    }
   ],
   "source": [
    "print('transfer from nanoPOTS to N2')\n",
    "\n",
    "\n",
    "Y_reference = cell_type_label[batch_label==0]\n",
    "Y_target = cell_type_label[batch_label==1]\n",
    "\n",
    "X_reference_scPROTEIN = embedding[batch_label==0]\n",
    "X_target_scPROTEIN = embedding[batch_label==1]\n",
    "\n",
    "neigh_learned = KNeighborsClassifier(weights='distance')\n",
    "neigh_learned.fit(X_reference_scPROTEIN, Y_reference)\n",
    "Y_predict_scPROTEIN = neigh_learned.predict(X_target_scPROTEIN)\n",
    "\n",
    "print('acc:',accuracy_score(Y_target, Y_predict_scPROTEIN), 'macro-f1:', f1_score(Y_target, Y_predict_scPROTEIN, average='macro'))"
   ]
  },
  {
   "cell_type": "code",
   "execution_count": 11,
   "id": "6ecfddd7",
   "metadata": {},
   "outputs": [
    {
     "name": "stdout",
     "output_type": "stream",
     "text": [
      "transfer from N2 to nanoPOTS\n",
      "acc: 0.9836065573770492 macro-f1: 0.982905982905983\n"
     ]
    }
   ],
   "source": [
    "print('transfer from N2 to nanoPOTS')\n",
    "\n",
    "Y_reference = cell_type_label[batch_label==1]\n",
    "Y_target = cell_type_label[batch_label==0]\n",
    "\n",
    "X_reference_scPROTEIN = embedding[batch_label==1]\n",
    "X_target_scPROTEIN = embedding[batch_label==0]\n",
    "\n",
    "neigh_learned = KNeighborsClassifier(weights='distance')\n",
    "neigh_learned.fit(X_reference_scPROTEIN, Y_reference)\n",
    "Y_predict_scPROTEIN = neigh_learned.predict(X_target_scPROTEIN)\n",
    "\n",
    "print('acc:',accuracy_score(Y_target, Y_predict_scPROTEIN), 'macro-f1:', f1_score(Y_target, Y_predict_scPROTEIN, average='macro'))"
   ]
  }
 ],
 "metadata": {
  "kernelspec": {
   "display_name": "Python 3 (ipykernel)",
   "language": "python",
   "name": "python3"
  },
  "language_info": {
   "codemirror_mode": {
    "name": "ipython",
    "version": 3
   },
   "file_extension": ".py",
   "mimetype": "text/x-python",
   "name": "python",
   "nbconvert_exporter": "python",
   "pygments_lexer": "ipython3",
   "version": "3.8.12"
  }
 },
 "nbformat": 4,
 "nbformat_minor": 5
}
