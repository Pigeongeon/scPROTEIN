{
 "cells": [
  {
   "attachments": {},
   "cell_type": "markdown",
   "id": "7bc67011",
   "metadata": {},
   "source": [
    "\n",
    "## Running scPROTEIN stage1 on SCoPE2_Specht dataset\n",
    "In this tutorial, we show how to run scPROTEIN from peptide-level data to estimate the peptide uncertainty, and then generate the protein-level data in an uncertainty-guided manner. An overall workflow can be shown as follows.\n",
    "\n",
    "\n",
    "\n",
    "<p align=\"center\">\n",
    "  <img width=\"80%\" src=./image/stage1.png>\n",
    "</p>\n",
    "\n",
    "\n"
   ]
  },
  {
   "cell_type": "code",
   "execution_count": 1,
   "id": "d5e894c2",
   "metadata": {},
   "outputs": [],
   "source": [
    "import numpy as np\n",
    "import pandas as pd\n",
    "import os \n",
    "import argparse\n",
    "import os.path as osp\n",
    "import random\n",
    "import torch\n",
    "import numpy as np \n",
    "import sys\n",
    "from utils import *\n",
    "\n",
    "sys.path.append(\"./peptide_uncertainty_estimation\") \n",
    "from multi_task_heteroscedastic_regression_model import *\n",
    "from peptide_uncertainty_utils import *\n"
   ]
  },
  {
   "cell_type": "code",
   "execution_count": 2,
   "id": "3e920aff",
   "metadata": {},
   "outputs": [],
   "source": [
    "parser = argparse.ArgumentParser()\n",
    "parser.add_argument(\"--file_path\", type=str, default='./data/Peptides-raw.csv', help='data path')\n",
    "parser.add_argument(\"--learning_rate\", type=float, default=1e-3, help='learning rate.')\n",
    "parser.add_argument(\"--weight_decay\", type=float, default=1e-4, help='weight decay.')\n",
    "parser.add_argument(\"--batch_size\", type=int, default=256, help='batch size.')\n",
    "parser.add_argument(\"--kernel_nums\", type=int, default=[300,200,100], help='kernel num of each conv block.')\n",
    "parser.add_argument(\"--kernel_size\", type=int, default=[2,2,2], help='kernel size of each conv block.')\n",
    "parser.add_argument(\"--max_pool_size\", type=int, default=1, help='max pooling size.')\n",
    "parser.add_argument(\"--conv_layers\", type=int, default=3, help='layer nums of conv.')\n",
    "parser.add_argument(\"--hidden_dim\", type=int, default=3000, help='hidden dim for fc layer.')\n",
    "parser.add_argument(\"--num_epochs\", type=int, default=90, help='number of epochs.')\n",
    "parser.add_argument(\"--seed\", type=int, default=3047, help='random seed.')\n",
    "parser.add_argument(\"--split_percentage\", type=float, default=0.8, help='split.')\n",
    "parser.add_argument(\"--dropout_rate\", type=float, default=0.5, help='drop out rate.')\n",
    "\n",
    "args =parser.parse_known_args()[0]   \n",
    "setup_seed(args.seed)\n",
    "torch.cuda.empty_cache()"
   ]
  },
  {
   "attachments": {},
   "cell_type": "markdown",
   "id": "fb215c06",
   "metadata": {},
   "source": [
    "### Load peptide data"
   ]
  },
  {
   "cell_type": "markdown",
   "id": "b15d7f87",
   "metadata": {},
   "source": [
    "We firstly load the peptide-level data together with the input peptide sequences.\n",
    "The following functions are used:\n",
    "\n",
    "<br/>\n",
    "\n",
    "\n",
    "**load_peptide(data_path)**\n",
    "\n",
    "**- Function:**\n",
    "\n",
    "Load the input peptide-level file, and then extract the peptide sequences, peptide-level data along with other meta information.\n",
    "\n",
    "**- Parameters:**\n",
    "- `data_path` (str): Data path to load the peptide-level file.\n",
    "\n",
    "**- Returns:**\n",
    "- `peptides` (list): Peptide sequences.\n",
    "- `proteins` (list): Protein names.\n",
    "- `Y_label` (array): Peptide-level abundance matrix (peptide*cell).\n",
    "- `cell_list` (list): The list containing the index of each cell.\n",
    "- `num_cells` (int): Number of total cells.\n",
    "\n",
    "<br/>\n",
    "\n",
    "**peptide_encode(peptides)**\n",
    "\n",
    "\n",
    "**- Function:**\n",
    "\n",
    "This function takes as input peptide sequences composed of amino acids. It returns the corresponding one-hot encoding data matrix and the total number of different amino acid types.\n",
    "\n",
    "**- Parameters:**\n",
    "\n",
    "- `peptides` (list): The input peptide sequences.\n",
    "\n",
    "**- Returns:**\n",
    "\n",
    "- `peptide_onehot_padding` (array): One-hot encoding matrix for peptide sequences.\n",
    "- `num_amino_acid` (int): The number of different amino acid types.\n",
    "\n",
    "\n"
   ]
  },
  {
   "cell_type": "code",
   "execution_count": 3,
   "id": "3551df31",
   "metadata": {},
   "outputs": [
    {
     "name": "stdout",
     "output_type": "stream",
     "text": [
      "peptides nums in total: 9354\n",
      "cell nums: 1490\n"
     ]
    }
   ],
   "source": [
    "peptides, proteins, Y_label, cell_list, num_cells = load_peptide(args.file_path)\n",
    "peptide_onehot_padding, num_amino_acid = peptide_encode(peptides)"
   ]
  },
  {
   "cell_type": "code",
   "execution_count": 4,
   "id": "5bf8540a",
   "metadata": {},
   "outputs": [],
   "source": [
    "device = torch.device('cuda:0' if torch.cuda.is_available() else 'cpu')\n",
    "peptide_onehot_padding = peptide_onehot_padding.to(device)\n",
    "Y_label = Y_label.to(device)"
   ]
  },
  {
   "attachments": {},
   "cell_type": "markdown",
   "id": "594d6ea8",
   "metadata": {},
   "source": [
    "### Peptide uncertainty estimation \n",
    "Establish the framework of scPROTEIN stage 1 and conduct uncertainty learning. The following functions are employed for the construction of scPROTEIN stage1:\n",
    "\n",
    "<br/>\n",
    "\n",
    "\n",
    "**peptide_CNN(num_amino_acid, max_pool_size, hidden_dim, output_dim, conv_layers, dropout_rate, kernel_nums, kernel_size)**\n",
    "\n",
    "**- Function:**\n",
    "\n",
    "This function defines the Heteroscedastic regression model of scPROTEIN *stage1* for peptide uncertainty estimation.\n",
    "\n",
    "**- Parameters:**\n",
    "\n",
    "- `num_amino_acid` (int): The number of different amino acid types.\n",
    "- `max_pool_size` (int): The size of the sliding window in the max-pooling operation.\n",
    "- `hidden_dim` (int): The hidden dimension in the fully-connected layer.\n",
    "- `output_dim` (int): Output dimension of the Heteroscedastic regression model, which is twice the number of cells (each cell has a $\\mu$ and a $\\sigma$).\n",
    "- `conv_layers` (int): Number of convolutional layers.\n",
    "- `dropout_rate` (float): Dropout rate.\n",
    "- `kernel_nums` (int): Number of kernels in each convolutional block.\n",
    "- `kernel_size` (int): Kernel size of each convolutional block.\n",
    "\n",
    "**- Returns:**\n",
    "\n",
    "- `model` (object): The defined Heteroscedastic regression model object.\n",
    "\n",
    "\n",
    "<br/>\n",
    "\n",
    "\n",
    "**scPROTEIN_stage1_learning(model, peptide_onehot_padding, Y_label, learning_rate, weight_decay, split_percentage, num_epochs, batch_size)**\n",
    "\n",
    "**- Function:**\n",
    "\n",
    "This function constructs the framework for scPROTEIN *stage1* training and prediction.\n",
    "\n",
    "**- Parameters:**\n",
    "\n",
    "- `model` (object): Defined Heteroscedastic regression model object of *stage1*.\n",
    "- `peptide_onehot_padding` (array): One-hot encoding matrix for the input peptide sequences.\n",
    "- `Y_label` (array): Peptide-level abundance matrix (peptide*cell).\n",
    "- `split_percentage` (float): Split percentage of data.\n",
    "- `learning_rate` (float): Learning rate for the Adam optimizer.\n",
    "- `weight_decay` (float): Weight decay for the Adam optimizer.\n",
    "- `num_epochs` (int): Number of epochs for training *stage1*. We empirically set 90 to strike a balance between achieving convergence and reducing training time. \n",
    "- `batch_size` (int): Batch size for mini-batch training.\n",
    "\n",
    "**- Returns:**\n",
    "\n",
    "- `scPROTEIN_stage1` (object): The scPROTEIN *stage1* object. The functions of `scPROTEIN_stage1` are as follows:\n",
    "    - `scPROTEIN_stage1.train()`: Perform scPROTEIN *stage1* training.\n",
    "    - `scPROTEIN_stage1.uncertainty_generation()`: Generate the estimated peptide uncertainty based on the trained *stage1* model.\n"
   ]
  },
  {
   "cell_type": "code",
   "execution_count": 5,
   "id": "07c4f015",
   "metadata": {},
   "outputs": [
    {
     "name": "stdout",
     "output_type": "stream",
     "text": [
      "epoch 0, loss_regression: 538.3992491662502\n",
      "epoch 1, loss_regression: 277.88261127471924\n",
      "epoch 2, loss_regression: 161.06885701417923\n",
      "epoch 3, loss_regression: 134.76411202549934\n",
      "epoch 4, loss_regression: 112.60996372625232\n",
      "epoch 5, loss_regression: 114.79242356866598\n",
      "epoch 6, loss_regression: 86.18083467253018\n",
      "epoch 7, loss_regression: 74.28734213113785\n",
      "epoch 8, loss_regression: 71.19063758850098\n",
      "epoch 9, loss_regression: 72.40123849362135\n",
      "epoch 10, loss_regression: 145.74116540327668\n",
      "epoch 11, loss_regression: 83.23712939023972\n",
      "epoch 12, loss_regression: 68.98227059841156\n",
      "epoch 13, loss_regression: 65.35419291257858\n",
      "epoch 14, loss_regression: 63.31593954563141\n",
      "epoch 15, loss_regression: 62.715305864810944\n",
      "epoch 16, loss_regression: 61.290855169296265\n",
      "epoch 17, loss_regression: 60.39526891708374\n",
      "epoch 18, loss_regression: 59.57187879085541\n",
      "epoch 19, loss_regression: 58.92042946815491\n",
      "epoch 20, loss_regression: 58.40282726287842\n",
      "epoch 21, loss_regression: 57.46757769584656\n",
      "epoch 22, loss_regression: 57.82562017440796\n",
      "epoch 23, loss_regression: 57.91729462146759\n",
      "epoch 24, loss_regression: 56.89507204294205\n",
      "epoch 25, loss_regression: 58.12606370449066\n",
      "epoch 26, loss_regression: 55.41952288150787\n",
      "epoch 27, loss_regression: 55.66642343997955\n",
      "epoch 28, loss_regression: 54.26985037326813\n",
      "epoch 29, loss_regression: 54.64512598514557\n",
      "epoch 30, loss_regression: 53.53744661808014\n",
      "epoch 31, loss_regression: 54.17048358917236\n",
      "epoch 32, loss_regression: 52.533947467803955\n",
      "epoch 33, loss_regression: 52.35391700267792\n",
      "epoch 34, loss_regression: 52.81975555419922\n",
      "epoch 35, loss_regression: 51.5421941280365\n",
      "epoch 36, loss_regression: 51.06515896320343\n",
      "epoch 37, loss_regression: 50.773457765579224\n",
      "epoch 38, loss_regression: 50.43712306022644\n",
      "epoch 39, loss_regression: 49.97603964805603\n",
      "epoch 40, loss_regression: 49.646026849746704\n",
      "epoch 41, loss_regression: 49.62005937099457\n",
      "epoch 42, loss_regression: 49.74890375137329\n",
      "epoch 43, loss_regression: 50.62725615501404\n",
      "epoch 44, loss_regression: 49.482292890548706\n",
      "epoch 45, loss_regression: 48.808159708976746\n",
      "epoch 46, loss_regression: 48.71275269985199\n",
      "epoch 47, loss_regression: 48.67100751399994\n",
      "epoch 48, loss_regression: 47.996803760528564\n",
      "epoch 49, loss_regression: 47.763572573661804\n",
      "epoch 50, loss_regression: 46.46382117271423\n",
      "epoch 51, loss_regression: 45.836169600486755\n",
      "epoch 52, loss_regression: 46.40825867652893\n",
      "epoch 53, loss_regression: 45.790802121162415\n",
      "epoch 54, loss_regression: 45.97092866897583\n",
      "epoch 55, loss_regression: 46.03792226314545\n",
      "epoch 56, loss_regression: 45.07496666908264\n",
      "epoch 57, loss_regression: 46.16902410984039\n",
      "epoch 58, loss_regression: 44.35557568073273\n",
      "epoch 59, loss_regression: 43.42425608634949\n",
      "epoch 60, loss_regression: 44.384596824645996\n",
      "epoch 61, loss_regression: 44.15778136253357\n",
      "epoch 62, loss_regression: 43.43726372718811\n",
      "epoch 63, loss_regression: 42.918845772743225\n",
      "epoch 64, loss_regression: 42.785406947135925\n",
      "epoch 65, loss_regression: 42.00010800361633\n",
      "epoch 66, loss_regression: 42.27986800670624\n",
      "epoch 67, loss_regression: 41.851778745651245\n",
      "epoch 68, loss_regression: 45.590336561203\n",
      "epoch 69, loss_regression: 42.61121368408203\n",
      "epoch 70, loss_regression: 41.43877732753754\n",
      "epoch 71, loss_regression: 41.6463018655777\n",
      "epoch 72, loss_regression: 42.74230945110321\n",
      "epoch 73, loss_regression: 40.46570897102356\n",
      "epoch 74, loss_regression: 40.42763376235962\n",
      "epoch 75, loss_regression: 40.25153565406799\n",
      "epoch 76, loss_regression: 39.3489111661911\n",
      "epoch 77, loss_regression: 39.40659236907959\n",
      "epoch 78, loss_regression: 40.11961758136749\n",
      "epoch 79, loss_regression: 39.90058100223541\n",
      "epoch 80, loss_regression: 40.41139483451843\n",
      "epoch 81, loss_regression: 39.95163106918335\n",
      "epoch 82, loss_regression: 38.58762085437775\n",
      "epoch 83, loss_regression: 38.19602632522583\n",
      "epoch 84, loss_regression: 37.630842447280884\n",
      "epoch 85, loss_regression: 37.75010120868683\n",
      "epoch 86, loss_regression: 37.83292329311371\n",
      "epoch 87, loss_regression: 36.40797543525696\n",
      "epoch 88, loss_regression: 37.44211232662201\n",
      "epoch 89, loss_regression: 37.0074577331543\n",
      "epoch 90, loss_regression: 37.31941890716553\n"
     ]
    }
   ],
   "source": [
    "model = peptide_CNN(num_amino_acid, args.max_pool_size, args.hidden_dim, 2*num_cells, args.conv_layers, args.dropout_rate, args.kernel_nums, args.kernel_size).to(device)\n",
    "scPROTEIN_stage1 = scPROTEIN_stage1_learning(model, peptide_onehot_padding, Y_label,args.learning_rate, args.weight_decay, args.split_percentage, args.num_epochs, args.batch_size)\n",
    "scPROTEIN_stage1.train()"
   ]
  },
  {
   "attachments": {},
   "cell_type": "markdown",
   "id": "c6ce4055",
   "metadata": {},
   "source": [
    "### Generate the estimated peptide uncertainty"
   ]
  },
  {
   "cell_type": "code",
   "execution_count": 6,
   "id": "461ef3e9",
   "metadata": {},
   "outputs": [
    {
     "data": {
      "text/plain": [
       "(9354, 1490)"
      ]
     },
     "execution_count": 6,
     "metadata": {},
     "output_type": "execute_result"
    }
   ],
   "source": [
    "uncertainty = scPROTEIN_stage1.uncertainty_generation()\n",
    "uncertainty.shape"
   ]
  },
  {
   "attachments": {},
   "cell_type": "markdown",
   "id": "0932916b",
   "metadata": {},
   "source": [
    "### Uncertainty-guided protein-level data generation\n",
    "Then we use the estimated peptide uncertainty and peptide-level data to compute the protein level data. We can use *load_sc_proteomic_features* function to generate the protein-level data.\n",
    "\n",
    "\n",
    "<br/>\n",
    "\n",
    "**load_sc_proteomic_features(stage1)**\n",
    "\n",
    "**- Function:**\n",
    "\n",
    "This function specifies whether to use *stage1* and loads the single-cell protein-level data matrix.\n",
    "\n",
    "**- Parameters:**\n",
    "\n",
    "- `stage1` (bool): This parameter indicates if scPROTEIN starts from *stage1*. `True` represents generating protein-level data using *stage1* in the uncertainty-guided manner, and `False` denotes directly learning from protein-level data.\n",
    "\n",
    "**- Returns:**\n",
    "\n",
    "- `proteins` (list): Protein names.\n",
    "- `cells` (list): The list containing the index of each cell.\n",
    "- `features` (array): Single-cell proteomics data matrix.\n",
    "\n"
   ]
  },
  {
   "cell_type": "code",
   "execution_count": 7,
   "id": "974a1a99",
   "metadata": {},
   "outputs": [
    {
     "data": {
      "text/plain": [
       "(1490, 3042)"
      ]
     },
     "execution_count": 7,
     "metadata": {},
     "output_type": "execute_result"
    }
   ],
   "source": [
    "_, _, protein_data = load_sc_proteomic_features(True)  \n",
    "protein_data.shape"
   ]
  },
  {
   "cell_type": "code",
   "execution_count": null,
   "id": "e30a87b0",
   "metadata": {},
   "outputs": [],
   "source": []
  }
 ],
 "metadata": {
  "kernelspec": {
   "display_name": "Python 3 (ipykernel)",
   "language": "python",
   "name": "python3"
  },
  "language_info": {
   "codemirror_mode": {
    "name": "ipython",
    "version": 3
   },
   "file_extension": ".py",
   "mimetype": "text/x-python",
   "name": "python",
   "nbconvert_exporter": "python",
   "pygments_lexer": "ipython3",
   "version": "3.8.12"
  }
 },
 "nbformat": 4,
 "nbformat_minor": 5
}
